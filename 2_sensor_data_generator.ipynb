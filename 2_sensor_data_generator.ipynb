{
 "cells": [
  {
   "cell_type": "code",
   "execution_count": 2,
   "id": "06d319cb",
   "metadata": {},
   "outputs": [
    {
     "name": "stdout",
     "output_type": "stream",
     "text": [
      "Message #0 sent to topic 'vasyliev_v_building_sensors' successfully.\n",
      "Message #1 sent to topic 'vasyliev_v_building_sensors' successfully.\n",
      "Message #2 sent to topic 'vasyliev_v_building_sensors' successfully.\n",
      "Message #3 sent to topic 'vasyliev_v_building_sensors' successfully.\n",
      "Message #4 sent to topic 'vasyliev_v_building_sensors' successfully.\n",
      "Message #5 sent to topic 'vasyliev_v_building_sensors' successfully.\n",
      "Message #6 sent to topic 'vasyliev_v_building_sensors' successfully.\n",
      "Message #7 sent to topic 'vasyliev_v_building_sensors' successfully.\n",
      "Message #8 sent to topic 'vasyliev_v_building_sensors' successfully.\n",
      "Message #9 sent to topic 'vasyliev_v_building_sensors' successfully.\n",
      "Message #10 sent to topic 'vasyliev_v_building_sensors' successfully.\n",
      "Message #11 sent to topic 'vasyliev_v_building_sensors' successfully.\n",
      "Message #12 sent to topic 'vasyliev_v_building_sensors' successfully.\n",
      "Message #13 sent to topic 'vasyliev_v_building_sensors' successfully.\n",
      "Message #14 sent to topic 'vasyliev_v_building_sensors' successfully.\n",
      "Message #15 sent to topic 'vasyliev_v_building_sensors' successfully.\n",
      "Message #16 sent to topic 'vasyliev_v_building_sensors' successfully.\n",
      "Message #17 sent to topic 'vasyliev_v_building_sensors' successfully.\n",
      "Message #18 sent to topic 'vasyliev_v_building_sensors' successfully.\n",
      "Message #19 sent to topic 'vasyliev_v_building_sensors' successfully.\n"
     ]
    }
   ],
   "source": [
    "from kafka import KafkaProducer\n",
    "from config import kafka_config\n",
    "import json\n",
    "import time\n",
    "import random\n",
    "\n",
    "# Створення Kafka Producer\n",
    "producer = KafkaProducer(\n",
    "    bootstrap_servers=kafka_config['bootstrap_servers'],\n",
    "    security_protocol=kafka_config['security_protocol'],\n",
    "    sasl_mechanism=kafka_config['sasl_mechanism'],\n",
    "    sasl_plain_username=kafka_config['username'],\n",
    "    sasl_plain_password=kafka_config['password'],\n",
    "    value_serializer=lambda v: json.dumps(v).encode('utf-8'),\n",
    "    key_serializer=lambda v: json.dumps(v).encode('utf-8')\n",
    ")\n",
    "\n",
    "# Назва топіку\n",
    "my_name = \"vasyliev_v\"\n",
    "sensor_topic_name = f'{my_name}_building_sensors'\n",
    "\n",
    "for i in range(20):\n",
    "    # Відправлення повідомлення в топік\n",
    "    try:\n",
    "        data = {\n",
    "            \"timestamp\": time.time(),  # Часова мітка\n",
    "            \"sensor_id\": f\"sensor_{random.randint(1, 50)}\",  # ID сенсора\n",
    "            \"temperature\": random.randint(25, 45),  # Випадкове значення температури\n",
    "            \"humidity\": random.randint(15, 85)  # Випадкове значення вологості\n",
    "        }\n",
    "        producer.send(sensor_topic_name, key=str(i), value=data)\n",
    "        producer.flush()  # Очікування, поки всі повідомлення будуть відправлені\n",
    "        print(f\"Message #{i} sent to topic '{sensor_topic_name}' successfully.\")\n",
    "        time.sleep(2)\n",
    "    except Exception as e:\n",
    "        print(f\"An error occurred: {e}\")\n",
    "\n",
    "producer.close()  # Закриття producer"
   ]
  }
 ],
 "metadata": {
  "kernelspec": {
   "display_name": "ds_env",
   "language": "python",
   "name": "python3"
  },
  "language_info": {
   "codemirror_mode": {
    "name": "ipython",
    "version": 3
   },
   "file_extension": ".py",
   "mimetype": "text/x-python",
   "name": "python",
   "nbconvert_exporter": "python",
   "pygments_lexer": "ipython3",
   "version": "3.13.1"
  }
 },
 "nbformat": 4,
 "nbformat_minor": 5
}
